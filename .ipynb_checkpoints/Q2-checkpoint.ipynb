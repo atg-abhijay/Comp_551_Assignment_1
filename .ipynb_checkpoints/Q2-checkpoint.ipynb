{
 "cells": [
  {
   "cell_type": "code",
   "execution_count": 1,
   "metadata": {},
   "outputs": [],
   "source": [
    "# Render plots inline\n",
    "%matplotlib inline"
   ]
  },
  {
   "cell_type": "code",
   "execution_count": 2,
   "metadata": {},
   "outputs": [],
   "source": [
    "import pandas as pd\n",
    "import matplotlib.pyplot as plt\n",
    "import numpy as np"
   ]
  },
  {
   "cell_type": "code",
   "execution_count": 3,
   "metadata": {},
   "outputs": [],
   "source": [
    "def make_df(csv_path):\n",
    "    return pd.read_csv(csv_path, header=None, names=['x', 'y'], index_col=False)"
   ]
  },
  {
   "cell_type": "code",
   "execution_count": 4,
   "metadata": {},
   "outputs": [],
   "source": [
    "def make_data_matrix(x_values, degree):\n",
    "    X_data = []\n",
    "    for x_val in x_values:\n",
    "        col = []\n",
    "        for power in range(degree+1):\n",
    "            col.append(x_val ** power)\n",
    "        X_data.append(col)\n",
    "    X_matrix = np.array(X_data)\n",
    "    return X_matrix"
   ]
  },
  {
   "cell_type": "code",
   "execution_count": 5,
   "metadata": {},
   "outputs": [],
   "source": [
    "def find_params_vector(data_matrix, y_values):\n",
    "    data_product = (data_matrix.T).dot(data_matrix)\n",
    "    inv_product = np.linalg.inv(data_product)\n",
    "    params_vector = (inv_product.dot(data_matrix.T)).dot(y_values)\n",
    "    return params_vector"
   ]
  },
  {
   "cell_type": "code",
   "execution_count": 6,
   "metadata": {},
   "outputs": [],
   "source": [
    "def find_mse(data_matrix, params_vector, y_values):\n",
    "    y_predictions = np.array([row.dot(params_vector) for row in data_matrix])\n",
    "    error = y_values - y_predictions\n",
    "    error_square = error.dot(error)\n",
    "    mse = error_square/len(y_values)\n",
    "    return mse"
   ]
  },
  {
   "cell_type": "code",
   "execution_count": null,
   "metadata": {},
   "outputs": [],
   "source": [
    "def fit_model_find_mse(csv_path, degree):\n",
    "    df = make_df(csv_path)\n",
    "    x_values = df['x']\n",
    "    y_values = df['y']\n",
    "    X_matrix = make_data_matrix(x_values, degree)\n",
    "    params_vector = find_params_vector(X_matrix, y_values)\n",
    "    mse = find_mse(X_matrix, params_vector, y_values)\n",
    "    return mse"
   ]
  },
  {
   "cell_type": "code",
   "execution_count": 7,
   "metadata": {},
   "outputs": [],
   "source": [
    "train_df = make_df('./Datasets/Dataset_1_train.csv')"
   ]
  },
  {
   "cell_type": "code",
   "execution_count": 8,
   "metadata": {},
   "outputs": [],
   "source": [
    "train_x = train_df['x']\n",
    "train_y = train_df['y']"
   ]
  },
  {
   "cell_type": "code",
   "execution_count": 9,
   "metadata": {},
   "outputs": [],
   "source": [
    "train_matrix = make_data_matrix(train_x, 20)"
   ]
  },
  {
   "cell_type": "code",
   "execution_count": 10,
   "metadata": {},
   "outputs": [],
   "source": [
    "params_vector = find_params_vector(train_matrix, train_y)"
   ]
  },
  {
   "cell_type": "code",
   "execution_count": 11,
   "metadata": {},
   "outputs": [],
   "source": [
    "train_mse = find_mse(train_matrix, params_vector, train_y)"
   ]
  },
  {
   "cell_type": "code",
   "execution_count": 12,
   "metadata": {},
   "outputs": [],
   "source": [
    "valid_df = make_df('./Datasets/Dataset_1_valid.csv')"
   ]
  },
  {
   "cell_type": "code",
   "execution_count": 13,
   "metadata": {},
   "outputs": [],
   "source": [
    "valid_x = valid_df['x']\n",
    "valid_y = valid_df['y']"
   ]
  },
  {
   "cell_type": "code",
   "execution_count": 14,
   "metadata": {},
   "outputs": [],
   "source": [
    "valid_matrix = make_data_matrix(valid_x, 20)"
   ]
  },
  {
   "cell_type": "code",
   "execution_count": 15,
   "metadata": {},
   "outputs": [],
   "source": [
    "valid_mse = find_mse(valid_matrix, params_vector, valid_y)"
   ]
  },
  {
   "cell_type": "code",
   "execution_count": 16,
   "metadata": {},
   "outputs": [
    {
     "name": "stdout",
     "output_type": "stream",
     "text": [
      "6.474766080931443\n"
     ]
    }
   ],
   "source": [
    "print(train_mse)"
   ]
  },
  {
   "cell_type": "code",
   "execution_count": 17,
   "metadata": {},
   "outputs": [
    {
     "name": "stdout",
     "output_type": "stream",
     "text": [
      "1419.5725161143287\n"
     ]
    }
   ],
   "source": [
    "print(valid_mse)"
   ]
  },
  {
   "cell_type": "code",
   "execution_count": null,
   "metadata": {},
   "outputs": [],
   "source": []
  }
 ],
 "metadata": {
  "kernelspec": {
   "display_name": "myenv",
   "language": "python",
   "name": "myenv"
  },
  "language_info": {
   "codemirror_mode": {
    "name": "ipython",
    "version": 3
   },
   "file_extension": ".py",
   "mimetype": "text/x-python",
   "name": "python",
   "nbconvert_exporter": "python",
   "pygments_lexer": "ipython3",
   "version": "3.5.2"
  }
 },
 "nbformat": 4,
 "nbformat_minor": 2
}
